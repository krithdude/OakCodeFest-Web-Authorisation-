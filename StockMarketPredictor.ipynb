{
 "cells": [
  {
   "cell_type": "code",
   "execution_count": 1,
   "metadata": {},
   "outputs": [
    {
     "name": "stderr",
     "output_type": "stream",
     "text": [
      "Using TensorFlow backend.\n"
     ]
    },
    {
     "name": "stdin",
     "output_type": "stream",
     "text": [
      "Enter a Stock Market: GOOGL\n",
      "Enter the Start-Date(Y-M-D): 2010-01-01\n",
      "Enter the Final-Date(Y-M-D): 2020-01-01\n"
     ]
    },
    {
     "name": "stdout",
     "output_type": "stream",
     "text": [
      "[*********************100%***********************]  1 of 1 completed\n"
     ]
    },
    {
     "data": {
      "text/html": [
       "<div>\n",
       "<style scoped>\n",
       "    .dataframe tbody tr th:only-of-type {\n",
       "        vertical-align: middle;\n",
       "    }\n",
       "\n",
       "    .dataframe tbody tr th {\n",
       "        vertical-align: top;\n",
       "    }\n",
       "\n",
       "    .dataframe thead th {\n",
       "        text-align: right;\n",
       "    }\n",
       "</style>\n",
       "<table border=\"1\" class=\"dataframe\">\n",
       "  <thead>\n",
       "    <tr style=\"text-align: right;\">\n",
       "      <th></th>\n",
       "      <th>Open</th>\n",
       "      <th>High</th>\n",
       "      <th>Low</th>\n",
       "      <th>Close</th>\n",
       "      <th>Adj Close</th>\n",
       "      <th>Volume</th>\n",
       "    </tr>\n",
       "    <tr>\n",
       "      <th>Date</th>\n",
       "      <th></th>\n",
       "      <th></th>\n",
       "      <th></th>\n",
       "      <th></th>\n",
       "      <th></th>\n",
       "      <th></th>\n",
       "    </tr>\n",
       "  </thead>\n",
       "  <tbody>\n",
       "    <tr>\n",
       "      <td>2009-12-31</td>\n",
       "      <td>312.687683</td>\n",
       "      <td>313.013000</td>\n",
       "      <td>310.300293</td>\n",
       "      <td>310.300293</td>\n",
       "      <td>310.300293</td>\n",
       "      <td>2437100</td>\n",
       "    </tr>\n",
       "    <tr>\n",
       "      <td>2010-01-04</td>\n",
       "      <td>313.788788</td>\n",
       "      <td>315.070068</td>\n",
       "      <td>312.432434</td>\n",
       "      <td>313.688690</td>\n",
       "      <td>313.688690</td>\n",
       "      <td>3908400</td>\n",
       "    </tr>\n",
       "    <tr>\n",
       "      <td>2010-01-05</td>\n",
       "      <td>313.903900</td>\n",
       "      <td>314.234222</td>\n",
       "      <td>311.081085</td>\n",
       "      <td>312.307312</td>\n",
       "      <td>312.307312</td>\n",
       "      <td>6003300</td>\n",
       "    </tr>\n",
       "    <tr>\n",
       "      <td>2010-01-06</td>\n",
       "      <td>313.243256</td>\n",
       "      <td>313.243256</td>\n",
       "      <td>303.483490</td>\n",
       "      <td>304.434448</td>\n",
       "      <td>304.434448</td>\n",
       "      <td>7949400</td>\n",
       "    </tr>\n",
       "    <tr>\n",
       "      <td>2010-01-07</td>\n",
       "      <td>305.005005</td>\n",
       "      <td>305.305298</td>\n",
       "      <td>296.621613</td>\n",
       "      <td>297.347351</td>\n",
       "      <td>297.347351</td>\n",
       "      <td>12815700</td>\n",
       "    </tr>\n",
       "  </tbody>\n",
       "</table>\n",
       "</div>"
      ],
      "text/plain": [
       "                  Open        High         Low       Close   Adj Close  \\\n",
       "Date                                                                     \n",
       "2009-12-31  312.687683  313.013000  310.300293  310.300293  310.300293   \n",
       "2010-01-04  313.788788  315.070068  312.432434  313.688690  313.688690   \n",
       "2010-01-05  313.903900  314.234222  311.081085  312.307312  312.307312   \n",
       "2010-01-06  313.243256  313.243256  303.483490  304.434448  304.434448   \n",
       "2010-01-07  305.005005  305.305298  296.621613  297.347351  297.347351   \n",
       "\n",
       "              Volume  \n",
       "Date                  \n",
       "2009-12-31   2437100  \n",
       "2010-01-04   3908400  \n",
       "2010-01-05   6003300  \n",
       "2010-01-06   7949400  \n",
       "2010-01-07  12815700  "
      ]
     },
     "execution_count": 1,
     "metadata": {},
     "output_type": "execute_result"
    }
   ],
   "source": [
    "#Importing Libraries For Computation \n",
    "import pandas as pd\n",
    "import numpy as np\n",
    "#Importing Stock Market Library\n",
    "import yfinance as yf\n",
    "#Importing Libraries For Machine Learning\n",
    "from sklearn.preprocessing import MinMaxScaler\n",
    "from keras.models import Sequential\n",
    "from keras.layers import Dense, Dropout, LSTM\n",
    "\n",
    "#Import matplot for plotting graphs of the stocks\n",
    "import matplotlib.pyplot as plt\n",
    "%matplotlib inline\n",
    "\n",
    "#Normalizing Data For Accurate Computations\n",
    "from sklearn.preprocessing import MinMaxScaler\n",
    "Normalize = MinMaxScaler(feature_range=(0, 1))\n",
    "\n",
    "#Assigning stock market and dates as inputs\n",
    "Stock_Name = input(\"Enter a Stock Market:\")\n",
    "Start_Date = input(\"Enter the Start-Date(Y-M-D):\")\n",
    "End_Date = input(\"Enter the Final-Date(Y-M-D):\") \n",
    "\n",
    "#read the file\n",
    "Stock_Table = yf.download(Stock_Name,Start_Date,End_Date)\n",
    "\n",
    "#print the head\n",
    "Stock_Table.head()"
   ]
  },
  {
   "cell_type": "code",
   "execution_count": null,
   "metadata": {},
   "outputs": [],
   "source": [
    "plt.figure(figsize=(20,12))\n",
    "plt.plot(Stock_Table['Close'], label='Close Price history')"
   ]
  },
  {
   "cell_type": "code",
   "execution_count": null,
   "metadata": {},
   "outputs": [],
   "source": [
    "#Creating DataFrame For Closing Prices\n",
    "Closing_Table = pd.DataFrame(index=range(0,len(Stock_Table)),columns=[\"Date\", \"Close\"])\n",
    "Closing_Table['Date'][:] = Stock_Table.index[:]\n",
    "Closing_Table['Close'][:] = Stock_Table['Close'][:]\n",
    "print(Closing_Table)"
   ]
  },
  {
   "cell_type": "code",
   "execution_count": null,
   "metadata": {},
   "outputs": [],
   "source": []
  },
  {
   "cell_type": "code",
   "execution_count": null,
   "metadata": {},
   "outputs": [],
   "source": []
  },
  {
   "cell_type": "code",
   "execution_count": null,
   "metadata": {},
   "outputs": [],
   "source": []
  },
  {
   "cell_type": "code",
   "execution_count": null,
   "metadata": {},
   "outputs": [],
   "source": []
  }
 ],
 "metadata": {
  "kernelspec": {
   "display_name": "Python 3",
   "language": "python",
   "name": "python3"
  },
  "language_info": {
   "codemirror_mode": {
    "name": "ipython",
    "version": 3
   },
   "file_extension": ".py",
   "mimetype": "text/x-python",
   "name": "python",
   "nbconvert_exporter": "python",
   "pygments_lexer": "ipython3",
   "version": "3.7.4"
  }
 },
 "nbformat": 4,
 "nbformat_minor": 4
}
